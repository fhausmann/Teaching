{
 "cells": [
  {
   "cell_type": "code",
   "execution_count": null,
   "id": "4ef09da9-a445-496f-82fd-303ab0045a8f",
   "metadata": {
    "tags": []
   },
   "outputs": [],
   "source": [
    "import seaborn as sn\n",
    "import pandas as pd\n",
    "import matplotlib.pyplot as plt"
   ]
  },
  {
   "cell_type": "code",
   "execution_count": null,
   "id": "cd736e93-c363-4593-9094-edf4be87100a",
   "metadata": {
    "tags": []
   },
   "outputs": [],
   "source": [
    "# df aus der DE Analyse - name an das objekt aus der DE Analyse anpassen\n",
    "\n",
    "df = pd.read_csv(\"results_DE.csv\")\n",
    "\n",
    "\n",
    "\n"
   ]
  },
  {
   "cell_type": "code",
   "execution_count": null,
   "id": "7d79cac4-083a-49b0-babf-f87abd28de9a",
   "metadata": {
    "tags": []
   },
   "outputs": [],
   "source": []
  },
  {
   "cell_type": "code",
   "execution_count": null,
   "id": "0835e537-078b-45c5-be99-5584e411868d",
   "metadata": {},
   "outputs": [],
   "source": [
    "# einfacher Scatterplot - logFC und adj.P.Val Variablennamen evtl anpassen\n",
    "plt.scatter(x=df['logFC'],y=df['adj.P.Val'].apply(lambda x:-np.log10(x)),s=1)"
   ]
  },
  {
   "cell_type": "code",
   "execution_count": null,
   "id": "4bd7eda3-427b-463d-85ba-c60c5f8cec34",
   "metadata": {
    "tags": []
   },
   "outputs": [],
   "source": [
    "## Volcanoplot mit Grenzen, die Signifikanz anzeigen\n",
    "\n",
    "plt.scatter(x=df['logFC'],y=df['adj.P.Val'].apply(lambda x:-np.log10(x)),s=1)\n",
    "plt.xlabel(\"logFC\")\n",
    "plt.ylabel(\"-logFDR\")\n",
    "plt.axvline(-2,color=\"grey\",linestyle=\"--\")\n",
    "plt.axvline(2,color=\"grey\",linestyle=\"--\")\n",
    "plt.axhline(2,color=\"grey\",linestyle=\"--\")"
   ]
  },
  {
   "cell_type": "code",
   "execution_count": null,
   "id": "2367e1f3-6b12-4c16-8ed9-44ad473c1af8",
   "metadata": {
    "tags": []
   },
   "outputs": [],
   "source": [
    "## Volcanoplot mit Grenzen und farbig markierten Genen\n",
    "\n",
    "plt.scatter(x=df['logFC'],y=df['adj.P.Val'].apply(lambda x:-np.log10(x)),s=1,label=\"Not significant\")\n",
    "\n",
    "# highlight down- or up- regulated genes\n",
    "down = df[(df['logFC']<=-2)&(df['adj.P.Val']<=0.01)]\n",
    "up = df[(df['logFC']>=2)&(df['adj.P.Val']<=0.01)]\n",
    "\n",
    "plt.scatter(x=down['logFC'],y=down['adj.P.Val'].apply(lambda x:-np.log10(x)),s=3,label=\"Down-regulated\",color=\"blue\")\n",
    "plt.scatter(x=up['logFC'],y=up['adj.P.Val'].apply(lambda x:-np.log10(x)),s=3,label=\"Up-regulated\",color=\"red\")\n",
    "\n",
    "plt.xlabel(\"logFC\")\n",
    "plt.ylabel(\"-logFDR\")\n",
    "plt.axvline(-2,color=\"grey\",linestyle=\"--\")\n",
    "plt.axvline(2,color=\"grey\",linestyle=\"--\")\n",
    "plt.axhline(2,color=\"grey\",linestyle=\"--\")\n",
    "plt.legend()"
   ]
  }
 ],
 "metadata": {
  "kernelspec": {
   "display_name": "Python 3 (ipykernel)",
   "language": "python",
   "name": "python3"
  },
  "language_info": {
   "codemirror_mode": {
    "name": "ipython",
    "version": 3
   },
   "file_extension": ".py",
   "mimetype": "text/x-python",
   "name": "python",
   "nbconvert_exporter": "python",
   "pygments_lexer": "ipython3",
   "version": "3.10.10"
  }
 },
 "nbformat": 4,
 "nbformat_minor": 5
}
