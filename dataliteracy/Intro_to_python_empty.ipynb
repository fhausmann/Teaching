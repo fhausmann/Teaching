{
 "cells": [
  {
   "cell_type": "markdown",
   "id": "86580d01-9e04-49e9-8f83-35be02791ea5",
   "metadata": {
    "tags": []
   },
   "source": [
    "# Getting help: https://docs.python.org/3/tutorial/index.html"
   ]
  },
  {
   "cell_type": "code",
   "execution_count": null,
   "id": "a15ef9a5-11df-4fca-9f03-2e3c00d90d05",
   "metadata": {},
   "outputs": [],
   "source": []
  },
  {
   "cell_type": "markdown",
   "id": "a19044c3-5bdf-438a-87c8-590fc5fa918b",
   "metadata": {},
   "source": [
    "# Variables"
   ]
  },
  {
   "cell_type": "markdown",
   "id": "5c575c77-9c8b-4065-ae22-d9dc272badf2",
   "metadata": {},
   "source": [
    " **Temperature Conversion:**"
   ]
  },
  {
   "cell_type": "code",
   "execution_count": null,
   "id": "6d9655aa-4232-416a-8b0a-1f05e17c4291",
   "metadata": {
    "tags": []
   },
   "outputs": [],
   "source": [
    "# You can use variables to convert temperatures from Celsius to Fahrenheit and vice versa:\n",
    "\n",
    "celsius_temperature = 25\n",
    "fahrenheit_temperature = celsius_temperature * 9/5 + 32\n",
    "\n",
    "print(\"Celsius Temperature:\", celsius_temperature)\n",
    "print(\"Fahrenheit Temperature:\", fahrenheit_temperature)"
   ]
  },
  {
   "cell_type": "markdown",
   "id": "a29f9069-94cd-4207-957d-9b81187a09d7",
   "metadata": {},
   "source": [
    "**Shopping Cart:**"
   ]
  },
  {
   "cell_type": "code",
   "execution_count": null,
   "id": "2812893a-c425-4c48-aace-cd1be359482f",
   "metadata": {
    "tags": []
   },
   "outputs": [],
   "source": [
    "# Suppose you're building a simple shopping cart program. You can use variables to keep track of items and their prices:\n",
    "\n",
    "item1_name = \"T-shirt\"\n",
    "item1_price = \"99.99\"\n",
    "item2_name = \"Sweatpants\"\n",
    "item2_price = \"46.99\"\n",
    "item3_name = \"ice cream\"\n",
    "item3_price = \"5\"\n",
    "\n",
    "total_price = float(item1_price) + float(item2_price) + float(item3_price)\n",
    "\n",
    "print(\"Shopping Cart:\")\n",
    "print(item1_name, \"$\" + str(item1_price))\n",
    "print(item2_name, \"$\" + str(item2_price))\n",
    "print(item3_name, \"$\" + str(item3_price))\n",
    "print(\"Total Price: $\" + str(total_price))\n"
   ]
  },
  {
   "cell_type": "markdown",
   "id": "16f6d465-d3ce-4666-9359-e0f5e9b6db23",
   "metadata": {},
   "source": [
    " **Time Conversion:**"
   ]
  },
  {
   "cell_type": "code",
   "execution_count": null,
   "id": "21b0262e-b186-42c6-8af7-687d19df0c86",
   "metadata": {
    "tags": []
   },
   "outputs": [],
   "source": [
    "# Variables can be used to convert time units, such as seconds to minutes and hours:\n",
    "\n",
    "seconds = 390\n",
    "minutes = seconds / 60\n",
    "hours = minutes / 60\n",
    "\n",
    "print(\"Seconds:\", seconds)\n",
    "print(\"Minutes:\", minutes)\n",
    "print(\"Hours:\", hours)\n"
   ]
  },
  {
   "cell_type": "markdown",
   "id": "1c0ace76-6d81-4b07-8007-6bd68da6cc23",
   "metadata": {},
   "source": [
    "**Age Calculation:**"
   ]
  },
  {
   "cell_type": "code",
   "execution_count": null,
   "id": "786e4a66-1311-4d1c-be6d-eb86dbf5e3ce",
   "metadata": {
    "tags": []
   },
   "outputs": [],
   "source": [
    "# You can use variables to calculate someone's age based on their birth year and the current year:\n",
    "\n",
    "birth_year = 2001\n",
    "current_year = 2024\n",
    "age = current_year - birth_year\n",
    "\n",
    "print(\"Birth Year:\", birth_year)\n",
    "print(\"Current Year:\", current_year)\n",
    "print(\"Age:\", age)\n"
   ]
  },
  {
   "cell_type": "markdown",
   "id": "0444d33e-44a5-47e6-a41f-2498d310a835",
   "metadata": {},
   "source": [
    "**Speed Calculation:**"
   ]
  },
  {
   "cell_type": "code",
   "execution_count": null,
   "id": "86dc9cb4-f7ca-4b0f-9b3a-61dc92e35e8a",
   "metadata": {
    "tags": []
   },
   "outputs": [],
   "source": [
    "# Variables can help calculate speed given distance and time:\n",
    "\n",
    "distance = 100  # in kilometers\n",
    "time = 5  # in hours\n",
    "speed = distance / time\n",
    "\n",
    "print(\"Distance:\", distance, \"km\")\n",
    "print(\"Time:\", time, \"hours\")\n",
    "print(\"Speed:\", speed, \"km/h\")\n"
   ]
  },
  {
   "cell_type": "markdown",
   "id": "3a93f869-bec3-4898-a89e-b2ae7b070e9c",
   "metadata": {},
   "source": [
    "Imagine you're a wizard learning Python spells. You've got a variable mana that represents your magical energy. Let's say mana = 100. But when you cast a spell, it drains some mana. So, if you cast a spell fireball it should reduce your mana. Something like:"
   ]
  },
  {
   "cell_type": "code",
   "execution_count": null,
   "id": "07667d22-8215-410e-8930-6e40364dad1a",
   "metadata": {
    "tags": []
   },
   "outputs": [],
   "source": [
    "mana = 100\n",
    "fireball_cost = 7\n",
    "\n",
    "\n",
    "# Casting Fireball!\n",
    "mana -= fireball_cost\n",
    "print(\"You cast Fireball! Mana left:\", mana)"
   ]
  },
  {
   "cell_type": "markdown",
   "id": "b3cb5283-a598-49ff-ba28-b6cb8dd1f730",
   "metadata": {
    "tags": []
   },
   "source": [
    "**If else**"
   ]
  },
  {
   "cell_type": "code",
   "execution_count": null,
   "id": "ee001d1a-b2d4-48d2-bfbc-c062d53e7ff2",
   "metadata": {
    "tags": []
   },
   "outputs": [],
   "source": [
    "num = 8\n",
    "\n",
    "if num % 2 == 0:\n",
    "    print(\"The number is even.\")\n",
    "else:\n",
    "    print(\"The number is odd.\")"
   ]
  },
  {
   "cell_type": "code",
   "execution_count": null,
   "id": "6faef710-f128-4772-bf17-094670b0db3c",
   "metadata": {
    "tags": []
   },
   "outputs": [],
   "source": [
    "age = 22\n",
    "\n",
    "if age >= 18:\n",
    "    print(\"You are eligible to vote.\")\n",
    "else:\n",
    "    print(\"You are not eligible to vote yet.\")"
   ]
  },
  {
   "cell_type": "code",
   "execution_count": null,
   "id": "ac3e0eec-8944-4010-baec-2116c87f9e2c",
   "metadata": {
    "tags": []
   },
   "outputs": [],
   "source": [
    "# Build a grading system and determine the grade of a student. For example 80% equals to a grade of 2. \n",
    "\n",
    "score = 90\n",
    "\n",
    "if score > 89:\n",
    "    grade = 1\n",
    "elif score > 79:\n",
    "    grade = 2\n",
    "elif score > 69:\n",
    "    grade = 3\n",
    "elif score > 59:\n",
    "    grade = 4\n",
    "\n",
    "\n",
    "else:\n",
    "    grade = \"nothing because you failed\"\n",
    "   \n",
    "\n",
    "print(\"Your grade is:\", grade)"
   ]
  },
  {
   "cell_type": "markdown",
   "id": "3f0dccb5-8f67-4eb6-a822-9dcca8a42b59",
   "metadata": {},
   "source": [
    "# Lists"
   ]
  },
  {
   "cell_type": "markdown",
   "id": "4e01de93-f133-4f76-b68b-75dd23b40e14",
   "metadata": {},
   "source": [
    " **To-Do List:**"
   ]
  },
  {
   "cell_type": "code",
   "execution_count": null,
   "id": "f7e6007a-1622-4362-9d00-6f56858c5115",
   "metadata": {
    "tags": []
   },
   "outputs": [],
   "source": [
    "\n",
    "#You can use a list to create a simple to-do list and perform operations like adding, removing, and displaying tasks:\n",
    "\n",
    "\n",
    "todo_list = [\"work\", \"gym\", \"cook\"]\n",
    "\n",
    "# Add a new task\n",
    "todo_list.append(\"chores\")\n",
    "\n",
    "# Remove a task\n",
    "todo_list.remove(\"cook\")\n",
    "\n",
    "# Display the remaining tasks\n",
    "print(\"To-Do List:\")\n",
    "for task in todo_list:\n",
    "    print(\"-\", task)\n",
    "\n"
   ]
  },
  {
   "cell_type": "markdown",
   "id": "3c7081c1-66da-473c-8654-1b60522f220c",
   "metadata": {
    "tags": []
   },
   "source": [
    " **Student Grades:**"
   ]
  },
  {
   "cell_type": "code",
   "execution_count": null,
   "id": "7bcd005d-8772-4ad0-820f-39de5a64c7fe",
   "metadata": {
    "tags": []
   },
   "outputs": [],
   "source": [
    "# You can use a list to store and manipulate student grades, such as calculating the average grade:\n",
    "\n",
    "grades = [1, 3, 3, 5]\n",
    "\n",
    "# Calculate the average grade\n",
    "average_grade = sum(grades)/len(grades)\n",
    "\n",
    "print(\"Grades:\", grades)\n",
    "print(\"Average Grade:\", average_grade)\n",
    " "
   ]
  },
  {
   "cell_type": "markdown",
   "id": "f3880b9e-5b13-4890-8ecc-9f889bde8e1e",
   "metadata": {},
   "source": [
    "**Shopping Cart:**"
   ]
  },
  {
   "cell_type": "code",
   "execution_count": null,
   "id": "ba9d09fb-c989-45d6-b3ca-1c261c2c338d",
   "metadata": {
    "tags": []
   },
   "outputs": [],
   "source": [
    "#Lists are great for modeling a shopping cart, where you can add, remove, and display items:\n",
    "import scipy\n",
    "import numpy\n",
    "import pandas\n",
    "\n",
    "shopping_cart = [\"food\", \"more food\"]\n",
    "\n",
    "# Add an item\n",
    "shopping_cart.append(\"even more food\")\n",
    "\n",
    "# Remove an item\n",
    "shopping_cart.remove(\"more food\")\n",
    "\n",
    "# Display the contents of the shopping cart\n",
    "print(\"Shopping Cart:\")\n",
    "for item in shopping_cart:\n",
    "    print(\"-\", item)\n",
    "\n",
    "\n"
   ]
  },
  {
   "cell_type": "markdown",
   "id": "d430498d-11f8-40d3-a0f9-64f4237c3958",
   "metadata": {},
   "source": [
    "**Guest List:**"
   ]
  },
  {
   "cell_type": "code",
   "execution_count": null,
   "id": "b05b10e4-5090-4a46-8d22-03e75dc309db",
   "metadata": {
    "tags": []
   },
   "outputs": [],
   "source": [
    "#You can use a list to manage a guest list for an event, allowing you to add, remove, and check if a guest is attending:\n",
    "\n",
    "guest_list = [\"tim\", \"tom\"]\n",
    "\n",
    "# Add a new guest\n",
    "guest_list.append(\"tum\")\n",
    "\n",
    "# Remove a guest\n",
    "guest_list.remove(\"tim\")\n",
    "\n",
    "# Check if a guest is attending\n",
    "guest = \"tom\"\n",
    "if guest in guest_list:\n",
    "    print(\"attending\")\n",
    "else:\n",
    "    print(\"not attending\")\n",
    "    \n",
    "    "
   ]
  },
  {
   "cell_type": "markdown",
   "id": "04fdd87e-3bb0-4bae-b958-3ba09a35b005",
   "metadata": {},
   "source": [
    " **Word Count:**"
   ]
  },
  {
   "cell_type": "code",
   "execution_count": null,
   "id": "8ef3ff77-6d4d-464a-9b93-29871ca84705",
   "metadata": {
    "tags": []
   },
   "outputs": [],
   "source": [
    "#You can use a list to store words in a sentence and then count the occurrences of each word:\n",
    "\n",
    "sentence = \"a calcium signal in a t cell\"\n",
    "words = sentence.split()\n",
    "\n",
    "word_count = {}\n",
    "for word in words:\n",
    "    if word in word_count:\n",
    "        word_count[word] += 1\n",
    "    else:\n",
    "        word_count[word] = 1\n",
    "        \n",
    "print(\"Word Count:\")\n",
    "for word, count in word_count.items():\n",
    "    print(word, \":\", count)\n"
   ]
  },
  {
   "cell_type": "markdown",
   "id": "2a0793b6-47ed-4cc7-bb84-15075ffb8a81",
   "metadata": {},
   "source": [
    "You and your friends are planning a picnic and everyone's bringing something. You can create a list of items to bring:\n"
   ]
  },
  {
   "cell_type": "code",
   "execution_count": null,
   "id": "16fdce00-57eb-4bb0-838c-397d31f66b80",
   "metadata": {
    "tags": []
   },
   "outputs": [],
   "source": [
    "picnic_items = [\"only napkins\"]\n",
    "\n",
    "# Oh no! We forgot the napkins!\n",
    "picnic_items.append(\"napkins\")\n",
    "\n",
    "print(picnic_items)"
   ]
  },
  {
   "cell_type": "markdown",
   "id": "e05329c6-4eee-482a-869d-e5c7ff1dedb9",
   "metadata": {},
   "source": [
    "# Dictionaries\n",
    "\n"
   ]
  },
  {
   "cell_type": "markdown",
   "id": "0c9e672a-b5ff-46a9-89c6-36cd20932bba",
   "metadata": {},
   "source": [
    "**Phonebook:**"
   ]
  },
  {
   "cell_type": "code",
   "execution_count": null,
   "id": "8ce85b43-38da-4ad9-9f2f-9b407e505e51",
   "metadata": {
    "tags": []
   },
   "outputs": [],
   "source": [
    "#You can use a dictionary to store contacts in a phonebook, where the name is the key and the phone number is the value:\n",
    "\n",
    "phonebook = {\n",
    "   \"tim\": \"123\",\n",
    "   \"tom\": \"456\",\n",
    "   \"tum\": \"789\"\n",
    "}\n",
    "\n",
    "# Adding a new contact\n",
    "phonebook[\"tam\"] = \"135\"\n",
    "\n",
    "# Removing a contact\n",
    "del phonebook[\"tom\"]\n",
    "\n",
    "# Displaying the phonebook\n",
    "print(\"Phonebook:\")\n",
    "for name, number in phonebook.items():\n",
    "    print(name + \":\", number)\n"
   ]
  },
  {
   "cell_type": "markdown",
   "id": "475ef8c2-79aa-40a0-92b3-fa2b2eaefa98",
   "metadata": {},
   "source": [
    "**Student Grades:**"
   ]
  },
  {
   "cell_type": "code",
   "execution_count": null,
   "id": "7d7f4088-4400-4f0e-b954-9c958a8d5258",
   "metadata": {
    "tags": []
   },
   "outputs": [],
   "source": [
    "#You can use a dictionary to store student grades, where the student's name is the key and their grade is the value:\n",
    "\n",
    "grades = {\n",
    "    \n",
    "}\n",
    "\n",
    "grades[\"tam\"] = 1\n",
    "grades[\"tom\"] = 4\n",
    "grades[\"tim\"] = 3\n",
    "\n",
    "# Calculating the average grade\n",
    "average_grade = sum(grades.values())/len(grades)\n",
    "\n",
    "print(\"Grades:\", grades)\n",
    "print(\"Average Grade:\", average_grade)"
   ]
  },
  {
   "cell_type": "markdown",
   "id": "735d9014-325c-4068-8724-ef65d27122a5",
   "metadata": {},
   "source": [
    " **Inventory Management:**"
   ]
  },
  {
   "cell_type": "code",
   "execution_count": null,
   "id": "6a0b8bf0-1c85-4df8-ae08-1159cdd988f2",
   "metadata": {
    "tags": []
   },
   "outputs": [],
   "source": [
    "#Dictionaries are useful for managing inventory, where the product name is the key and the quantity available is the value:\n",
    "\n",
    "inventory = {\n",
    "  \n",
    "}\n",
    "\n",
    "# Adding new items to the inventory\n",
    "inventory[\"paper\"] = 90\n",
    "\n",
    "# Updating the quantity of existing items\n",
    "inventory[\"paper\"] -= 10\n",
    "\n",
    "# Displaying the inventory\n",
    "print(\"Inventory:\")\n",
    "for item, quantity in inventory.items():\n",
    "    print(item + \":\", quantity)"
   ]
  },
  {
   "cell_type": "markdown",
   "id": "f67e27e0-84b4-4903-b42f-730e4b967ef7",
   "metadata": {},
   "source": [
    "**Word Frequency:**"
   ]
  },
  {
   "cell_type": "code",
   "execution_count": null,
   "id": "7b038bb2-ec09-46ce-9928-90a71172a34b",
   "metadata": {
    "tags": []
   },
   "outputs": [],
   "source": [
    "#You can use a dictionary to count the frequency of words in a sentence:\n",
    "\n",
    "sentence = \"the quick brown fox jumps over the lazy dog\"\n",
    "words = sentence.split()\n",
    "\n",
    "word_frequency = {}\n",
    "for word in words:\n",
    "    if word in word_frequency:\n",
    "        word_frequency[word] += 1\n",
    "    else:\n",
    "        word_frequency[word] = 1\n",
    "\n",
    "        \n",
    "\n",
    "print(\"Word Frequency:\")\n",
    "for word, frequency in word_frequency.items():\n",
    "    print(word + \":\", frequency)\n"
   ]
  },
  {
   "cell_type": "markdown",
   "id": "f67924eb-52fa-4acc-b08a-6dbe0493d0b4",
   "metadata": {},
   "source": [
    "**Employee Database:**"
   ]
  },
  {
   "cell_type": "code",
   "execution_count": null,
   "id": "5bb7012f-42ff-4ca9-add0-06fdafef5f5d",
   "metadata": {
    "tags": []
   },
   "outputs": [],
   "source": [
    "#Dictionaries are handy for storing information about employees, such as their name, age, and department:\n",
    "\n",
    "\n",
    "employees = {\n",
    "   \"Alice\": {\"Age\": 30, \"Department\": \"HR\"},\n",
    "   \"Bob\": {\"Age\": 31, \"Department\": \"PR\"},\n",
    "   \"Carol\": {\"Age\": 32, \"Department\": \"BS\"}\n",
    "}\n",
    "\n",
    "# Adding a new employee\n",
    "employees[\"David\"] = {\"Age\": 33, \"Department\": \"Marketing\"}\n",
    "\n",
    "# Updating employee information\n",
    "employees[\"Carol\"][\"Department\"] = \"unemployed\"\n",
    "\n",
    "# Displaying employee information\n",
    "print(\"Employee Database: \\n\")\n",
    "for employee in employees.keys():\n",
    "    print(employee, \"\\n\")\n",
    "    print(employees[employee], \"\\n \\n\")\n"
   ]
  },
  {
   "cell_type": "markdown",
   "id": "d9382b25-f66a-41fc-b1fe-d699bd6f547e",
   "metadata": {},
   "source": [
    "**You're in charge of organizing a pet show, and you need to keep track of the contestants and their owners:**"
   ]
  },
  {
   "cell_type": "code",
   "execution_count": null,
   "id": "4fbf37da-ac5d-4fe2-ba33-3574036d7fec",
   "metadata": {
    "tags": []
   },
   "outputs": [],
   "source": [
    "pet_show_entries = {\n",
    "  \"abby\": \"tim\", \"toby\": \"tom\"\n",
    "}\n",
    "\n",
    "# Oops! We forgot to add Max.\n",
    "pet_show_entries[\"Max\"] = \"tom\"\n",
    "\n",
    "print(pet_show_entries.keys(), pet_show_entries.values())\n"
   ]
  },
  {
   "cell_type": "markdown",
   "id": "dea916c3-5a0b-4889-8afc-8f6aad3fa832",
   "metadata": {},
   "source": [
    "# Functions"
   ]
  },
  {
   "cell_type": "code",
   "execution_count": null,
   "id": "31799f25-8505-48a5-b112-94408170ca0f",
   "metadata": {},
   "outputs": [],
   "source": [
    "def sum_two_numbers(a, b):\n",
    "    return a + b"
   ]
  },
  {
   "cell_type": "code",
   "execution_count": null,
   "id": "9e566458-110f-4091-8994-dff9e4686342",
   "metadata": {
    "tags": []
   },
   "outputs": [],
   "source": [
    "def my_function():\n",
    "    print(\"Hello From My Function!\")"
   ]
  },
  {
   "cell_type": "code",
   "execution_count": null,
   "id": "2b2fae00-a9e6-4bd8-8850-79971c34fc2a",
   "metadata": {
    "tags": []
   },
   "outputs": [],
   "source": [
    "# print(a simple greeting) - call function\n",
    "my_function()"
   ]
  },
  {
   "cell_type": "code",
   "execution_count": null,
   "id": "d0bd9ae9-e526-4aac-9a9f-3a4f5b96ad3c",
   "metadata": {
    "tags": []
   },
   "outputs": [],
   "source": [
    "def greet(name):\n",
    "    print(\"Hello\", name)\n",
    "\n",
    "# pass argument\n",
    "greet(\"John\")"
   ]
  },
  {
   "cell_type": "code",
   "execution_count": null,
   "id": "2f96000f-1478-4855-bb51-84ab1918ed77",
   "metadata": {
    "tags": []
   },
   "outputs": [],
   "source": [
    "# function with two arguments that adds two numbers\n",
    "def sum_two_numbers(a, b):\n",
    "    return a + b\n",
    "\n",
    "sum_two_numbers(1, 2)"
   ]
  },
  {
   "cell_type": "code",
   "execution_count": null,
   "id": "c86a2a9d-ccc1-47e7-8b40-21abbea48b89",
   "metadata": {
    "tags": []
   },
   "outputs": [],
   "source": [
    "# Modify this function to return a list of strings as defined above\n",
    "def list_benefits():\n",
    "    return [\"reusability\", \"simplification\", \"i need to write less code\"]"
   ]
  },
  {
   "cell_type": "code",
   "execution_count": null,
   "id": "6b03eab1-0d4b-4c7b-8b93-324e93252c41",
   "metadata": {
    "tags": []
   },
   "outputs": [],
   "source": [
    "# Modify this function to concatenate to each benefit - \" is a benefit of functions!\"\n",
    "benefit = list_benefits()\n",
    "\n",
    "def build_sentence(benefit):\n",
    "    for item in benefit:\n",
    "        print(item, \" is a benefit of functions\")\n",
    "    \n",
    "build_sentence(benefit)"
   ]
  },
  {
   "cell_type": "code",
   "execution_count": null,
   "id": "13753048-35d9-4510-bf23-8df4a2d92675",
   "metadata": {
    "tags": []
   },
   "outputs": [],
   "source": [
    "## write a function that takes two arguments, use if else to determine which value to return\n",
    "a = \"A\"\n",
    "b = \"B\"\n",
    "\n",
    "def func(x):\n",
    "    if x == \"A\":\n",
    "        print(b)\n",
    "        return b\n",
    "    else:\n",
    "        print(a)\n",
    "        return a\n",
    "        \n",
    "func(a)\n",
    "\n"
   ]
  },
  {
   "cell_type": "code",
   "execution_count": null,
   "id": "020c0af4-11b2-4647-94eb-faf725a775a8",
   "metadata": {
    "tags": []
   },
   "outputs": [],
   "source": [
    "## write a function that creates a fruit basket. Ask for allergies,preferences etc\n",
    "available_fruit = [\"apple\", \"banana\", \"citrus\", \"orange\", \"cherry\"]\n",
    "allergies = [\"banana\", \"melon\"]\n",
    "preferences = [\"apple\", \"banana\", \"citrus\", \"steak\", \"orange\"]\n",
    "\n",
    "def fruit_basket(allergies, preferences):\n",
    "    basket = []\n",
    "    for preference in preferences:\n",
    "        if preference in available_fruit:\n",
    "            basket.append(preference)\n",
    "    for allergy in allergies:\n",
    "        if allergy in basket:\n",
    "            basket.remove(allergy)\n",
    "    print(basket)\n",
    "    \n",
    "fruit_basket(allergies, preferences)\n",
    "\n"
   ]
  },
  {
   "cell_type": "code",
   "execution_count": null,
   "id": "798c00c5-ca7a-480c-b9d5-e38f0357db73",
   "metadata": {},
   "outputs": [],
   "source": []
  },
  {
   "cell_type": "markdown",
   "id": "4d219d73-83a9-437c-b234-eb437cf6d80b",
   "metadata": {},
   "source": [
    "Let's say you're writing a game where you have to defeat a dragon. You might have a function to calculate the damage dealt:"
   ]
  },
  {
   "cell_type": "code",
   "execution_count": null,
   "id": "f9287c34-7e49-4249-b0a2-76d3d3c6084f",
   "metadata": {
    "tags": []
   },
   "outputs": [],
   "source": [
    "def calculate_damage(player_attack, dragon_defense):\n",
    "    damage = player_attack - dragon_defense\n",
    "    if damage > 0:\n",
    "        return damage\n",
    "    else:\n",
    "        return 0 # Make sure damage is not negative\n",
    "\n",
    "# Player attacks!\n",
    "\n",
    "\n",
    "damage_dealt = calculate_damage(9, 0)\n",
    "print(\"Damage dealt to the dragon:\", damage_dealt)\n"
   ]
  },
  {
   "cell_type": "markdown",
   "id": "18df3a95-2680-4a20-9910-3d75c89b0a3a",
   "metadata": {},
   "source": [
    "# Modules"
   ]
  },
  {
   "cell_type": "code",
   "execution_count": null,
   "id": "e315a5e0-654e-4d1a-b3b1-94de9b04d186",
   "metadata": {},
   "outputs": [],
   "source": [
    "# import standard math module \n",
    "import math\n",
    "\n",
    "# use math.pi to get value of pi\n",
    "print(\"The value of pi is\", math.pi)"
   ]
  },
  {
   "cell_type": "code",
   "execution_count": null,
   "id": "3797df23-6359-48b7-8808-95626c91e512",
   "metadata": {},
   "outputs": [],
   "source": [
    "import datetime as dt\n",
    "date_of_birth = dt.datetime(1990, 3, 12)\n",
    "print(dt.datetime.today() - date_of_birth)"
   ]
  },
  {
   "cell_type": "code",
   "execution_count": null,
   "id": "4907c1e4-98e2-4f71-9f3b-ab2b45aebab0",
   "metadata": {},
   "outputs": [],
   "source": [
    "import numpy as np\n",
    "ar = np.array([[1, 2, 3], [4, 5, 6]])\n",
    "print(ar)"
   ]
  },
  {
   "cell_type": "code",
   "execution_count": null,
   "id": "8e0ee8d7-d4eb-4ba9-a583-01373675f852",
   "metadata": {},
   "outputs": [],
   "source": [
    "print(np.sqrt(ar))"
   ]
  },
  {
   "cell_type": "code",
   "execution_count": null,
   "id": "39d6e9eb-855e-49e0-87f6-40c063b24899",
   "metadata": {},
   "outputs": [],
   "source": [
    "# Find another numpy function and programm your own function with this module\n",
    "# Hint: google for NumPy Arithmetic functions"
   ]
  },
  {
   "cell_type": "code",
   "execution_count": null,
   "id": "14752787-fa44-441e-81fc-81c819743a8c",
   "metadata": {},
   "outputs": [],
   "source": [
    "# search for other modules and import them, see what they offer\n",
    "\n"
   ]
  }
 ],
 "metadata": {
  "kernelspec": {
   "display_name": "Python 3 (ipykernel)",
   "language": "python",
   "name": "python3"
  },
  "language_info": {
   "codemirror_mode": {
    "name": "ipython",
    "version": 3
   },
   "file_extension": ".py",
   "mimetype": "text/x-python",
   "name": "python",
   "nbconvert_exporter": "python",
   "pygments_lexer": "ipython3",
   "version": "3.10.10"
  }
 },
 "nbformat": 4,
 "nbformat_minor": 5
}
