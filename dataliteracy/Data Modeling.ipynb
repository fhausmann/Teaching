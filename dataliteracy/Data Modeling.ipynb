{
 "cells": [
  {
   "cell_type": "markdown",
   "id": "e16268d0-1971-4f58-b86c-89df142e8137",
   "metadata": {},
   "source": [
    "# Data Modeling"
   ]
  },
  {
   "cell_type": "code",
   "execution_count": null,
   "id": "3842a9f9-71d8-4af0-8a6f-4af6b8069477",
   "metadata": {
    "tags": []
   },
   "outputs": [],
   "source": [
    "import scanpy as sc\n",
    "from sklearn.ensemble import RandomForestClassifier, RandomForestRegressor\n",
    "from scipy.cluster.hierarchy import fcluster\n",
    "import pandas as pd\n",
    "import matplotlib.pyplot as plt\n",
    "from sklearn import tree"
   ]
  },
  {
   "cell_type": "code",
   "execution_count": null,
   "id": "1f22b80f-d05c-4e02-9acb-8006a95f7445",
   "metadata": {
    "tags": []
   },
   "outputs": [],
   "source": [
    "def train_test_split(adata, fraction: float):\n",
    "    \"\"\"Split data object into train & test split.\n",
    "    \n",
    "    Args:\n",
    "    -----\n",
    "        adata: The input dataset.\n",
    "        fraction (float): The size of the test set as fraction of the total dataset.\n",
    "        \n",
    "    Returns:\n",
    "    --------\n",
    "        training data, test data\n",
    "    \"\"\"\n",
    "    test_idx = adata.obs.sample(frac=fraction, random_state=42).index\n",
    "    return adata[~adata.obs_names.isin(test_idx)].copy(), adata[test_idx].copy()"
   ]
  },
  {
   "cell_type": "code",
   "execution_count": null,
   "id": "4a5867e7-9e2f-482e-beac-33ed3d9a8cff",
   "metadata": {
    "tags": []
   },
   "outputs": [],
   "source": [
    "def agglomerative_clustering(\n",
    "    adata, nclusters: int, groupby: str = \"Sample\", n_pcs: int = None\n",
    "):\n",
    "    \"\"\"Conduct agglomerative clustering. \n",
    "    \n",
    "    Result is saved in adata.obs['Cluster'].\n",
    "    \n",
    "    Args:\n",
    "    -----\n",
    "        adata: The input dataset.\n",
    "        nclusters (int): The number of expected clusters.\n",
    "        groupby (str): Average information by `groupby`.\n",
    "        n_pcs (int): Number of principle compontents to use. \n",
    "            Defaults to all.\n",
    "    \"\"\"\n",
    "    if groupby == \"Sample\" and \"Sample\" not in adata.obs.columns:\n",
    "        adata.obs[\"Sample\"] = adata.obs_names.astype(\"category\")\n",
    "    sc.tl.dendrogram(adata, groupby=groupby)\n",
    "    labels = adata.obs[groupby].cat.categories\n",
    "    clusters = fcluster(\n",
    "        adata.uns[f\"dendrogram_{groupby}\"][\"linkage\"], t=nclusters, criterion=\"maxclust\"\n",
    "    )\n",
    "    clusters = pd.Series(clusters, index=labels).astype(\"category\")\n",
    "    clusters = clusters.reindex(adata.obs[groupby].values).values\n",
    "    adata.obs[\"Cluster\"] = clusters"
   ]
  },
  {
   "cell_type": "markdown",
   "id": "ab8e2c91-fdcd-445c-8880-1df79ce859d8",
   "metadata": {
    "tags": []
   },
   "source": [
    "# Daten einlesen"
   ]
  },
  {
   "cell_type": "code",
   "execution_count": null,
   "id": "5a31df23-20d4-46a5-9fd1-cb2bde3c23ab",
   "metadata": {
    "tags": []
   },
   "outputs": [],
   "source": [
    "# Daten einlesen, welches Format ? \n",
    "\n",
    "data = sc.read(\"processed_data.h5ad\")"
   ]
  },
  {
   "cell_type": "markdown",
   "id": "b77ecd03-3dc0-4505-b664-8db307cc3634",
   "metadata": {},
   "source": [
    "## Differentielle Expressionsanalyse"
   ]
  },
  {
   "cell_type": "code",
   "execution_count": null,
   "id": "65638c78-5dac-4c76-b02b-9be70be70085",
   "metadata": {
    "tags": []
   },
   "outputs": [],
   "source": [
    "# DE Analyse durchführen\n",
    "\n"
   ]
  },
  {
   "cell_type": "code",
   "execution_count": null,
   "id": "114dc954-81c4-4a91-b456-a32e32c4c367",
   "metadata": {
    "tags": []
   },
   "outputs": [],
   "source": [
    "# Extrahieren der Ergebnisse"
   ]
  },
  {
   "cell_type": "code",
   "execution_count": null,
   "id": "612c5877-fc82-4449-a986-e789e38f966d",
   "metadata": {
    "tags": []
   },
   "outputs": [],
   "source": [
    "# Darstellen der Ergebnisse"
   ]
  },
  {
   "cell_type": "markdown",
   "id": "f288f192-4469-44aa-8320-2ac8b55fe405",
   "metadata": {},
   "source": [
    "## Clustering"
   ]
  },
  {
   "cell_type": "code",
   "execution_count": null,
   "id": "5e74dfd6-e214-4590-bf5e-62ee306fff51",
   "metadata": {
    "tags": []
   },
   "outputs": [],
   "source": [
    "# Clustering"
   ]
  },
  {
   "cell_type": "code",
   "execution_count": null,
   "id": "e786ef1c-5a98-4755-a48a-271dc6720720",
   "metadata": {
    "tags": []
   },
   "outputs": [],
   "source": [
    "# Darstellen des Dendrograms"
   ]
  },
  {
   "cell_type": "code",
   "execution_count": null,
   "id": "7d5da484-2e07-46ec-a456-b0b6dddc356e",
   "metadata": {
    "tags": []
   },
   "outputs": [],
   "source": [
    "# Darstellen als PCA"
   ]
  },
  {
   "cell_type": "code",
   "execution_count": null,
   "id": "3c2379c0-f3f9-42b9-bf14-c7cc88e302b5",
   "metadata": {
    "tags": []
   },
   "outputs": [],
   "source": [
    "# Darstellen als Heatmap"
   ]
  },
  {
   "cell_type": "markdown",
   "id": "fdbc0543-4050-4440-beac-4619052f4479",
   "metadata": {},
   "source": [
    "## Random Forest"
   ]
  },
  {
   "cell_type": "code",
   "execution_count": null,
   "id": "c3e24468-5fde-4f71-9332-8f918d712b24",
   "metadata": {
    "tags": []
   },
   "outputs": [],
   "source": [
    "import pandas as pd"
   ]
  },
  {
   "cell_type": "code",
   "execution_count": null,
   "id": "0d6e6337-60a6-4498-83a0-d96d024fe2fb",
   "metadata": {
    "tags": []
   },
   "outputs": [],
   "source": [
    "data.obs"
   ]
  },
  {
   "cell_type": "code",
   "execution_count": null,
   "id": "ea0ca91d-a740-413e-98ec-d42f1727c9aa",
   "metadata": {
    "tags": []
   },
   "outputs": [],
   "source": [
    "df = pd.DataFrame(data.obs)"
   ]
  },
  {
   "cell_type": "code",
   "execution_count": null,
   "id": "e7dc7268-7880-40ed-af5f-420e1690345b",
   "metadata": {
    "tags": []
   },
   "outputs": [],
   "source": [
    "# Aufteilen der Daten in Training & Test Daten\n",
    "\n",
    "#from sklearn.model_selection import train_test_split\n",
    "test, train = train_test_split(data, 0.9)"
   ]
  },
  {
   "cell_type": "code",
   "execution_count": null,
   "id": "29603218-c85c-4f04-b4b8-90711fb536bd",
   "metadata": {
    "tags": []
   },
   "outputs": [],
   "source": [
    "len(test)"
   ]
  },
  {
   "cell_type": "code",
   "execution_count": null,
   "id": "3132765c-14bd-4995-9d1c-ce3059f35af9",
   "metadata": {
    "tags": []
   },
   "outputs": [],
   "source": [
    "len(train)"
   ]
  },
  {
   "cell_type": "code",
   "execution_count": null,
   "id": "f6d8e98c-903a-468f-bc88-8a21f9025204",
   "metadata": {
    "tags": []
   },
   "outputs": [],
   "source": [
    "model = RandomForestClassifier(n_estimators=30, criterion='gini', max_depth=None, \n",
    "                                              min_samples_split=2, min_samples_leaf=1, min_weight_fraction_leaf=0.0, \n",
    "                                              max_features='sqrt', max_leaf_nodes=None, min_impurity_decrease=0.0, \n",
    "                                              bootstrap=True, oob_score=False, n_jobs=None, random_state=None, verbose=0, \n",
    "                                              warm_start=False, class_weight=None, ccp_alpha=0.0, max_samples=None \n",
    "                        )"
   ]
  },
  {
   "cell_type": "code",
   "execution_count": null,
   "id": "57f0d71e-9cf7-4f75-8ffd-30a5f4e9adaf",
   "metadata": {
    "tags": []
   },
   "outputs": [],
   "source": [
    "model.fit(train.X, train.obs.relapse)"
   ]
  },
  {
   "cell_type": "code",
   "execution_count": null,
   "id": "b5d6824c-4641-45f4-af41-784e32549932",
   "metadata": {
    "tags": []
   },
   "outputs": [],
   "source": [
    "# Random Forest: https://scikit-learn.org/stable/modules/generated/sklearn.ensemble.RandomForestClassifier.html"
   ]
  },
  {
   "cell_type": "code",
   "execution_count": null,
   "id": "24da4eda-4838-46a5-b0db-f5f22a964e19",
   "metadata": {
    "tags": []
   },
   "outputs": [],
   "source": [
    "# Fitten des Random Forest"
   ]
  },
  {
   "cell_type": "code",
   "execution_count": null,
   "id": "3b8838b4-bd4c-4310-b023-9e734de049e8",
   "metadata": {
    "tags": []
   },
   "outputs": [],
   "source": [
    "# Vorhersage der auf den Training daten\n",
    "\n",
    "pred1 = model.predict(train.X)\n",
    "pred2 = model.predict(test.X)"
   ]
  },
  {
   "cell_type": "code",
   "execution_count": null,
   "id": "13458f3d-ec0d-4b49-969e-9025f3a9900c",
   "metadata": {
    "tags": []
   },
   "outputs": [],
   "source": [
    "# Darstellen als Confusion Matrix\n",
    "\n",
    "from sklearn.metrics import confusion_matrix\n",
    "cm = confusion_matrix(test.obs.relapse.values, pred2)\n",
    "cm"
   ]
  },
  {
   "cell_type": "code",
   "execution_count": null,
   "id": "9b42aa72-97da-4690-88f5-d681b0608ba2",
   "metadata": {
    "tags": []
   },
   "outputs": [],
   "source": [
    "%matplotlib inline\n",
    "import matplotlib.pyplot as plt\n",
    "import seaborn as sn\n",
    "plt.figure\n",
    "sn.heatmap (cm, annot=True)\n",
    "plt.xlabel(\"predicted\")\n",
    "plt.ylabel(\"truth\")"
   ]
  },
  {
   "cell_type": "code",
   "execution_count": null,
   "id": "6f3cb624-24a8-4528-a53a-8f98414a7c12",
   "metadata": {
    "tags": []
   },
   "outputs": [],
   "source": [
    "# Wie gut ist die Performance ? Welche Metriken kennen wir ? \n",
    "\n",
    "model.score(test.X, test.obs.relapse)"
   ]
  },
  {
   "cell_type": "code",
   "execution_count": null,
   "id": "b7ae821e-dc89-4158-9bc5-1bac2d17c516",
   "metadata": {},
   "outputs": [],
   "source": [
    "# Wiederholen für die Test Daten?"
   ]
  },
  {
   "cell_type": "code",
   "execution_count": null,
   "id": "c734079f-db64-4266-824a-ebc81930bd27",
   "metadata": {
    "tags": []
   },
   "outputs": [],
   "source": [
    "# Was ist der Unterschied ? Wie unterscheidet sich die Perfomance?"
   ]
  },
  {
   "cell_type": "markdown",
   "id": "d4101fb3-2ba2-4100-b980-e2d9fb13716e",
   "metadata": {},
   "source": [
    "# Code-Snippets, die hilfreich sein könnten"
   ]
  },
  {
   "cell_type": "code",
   "execution_count": null,
   "id": "bac5853d-772e-4a94-9aef-5d14566d6367",
   "metadata": {},
   "outputs": [],
   "source": [
    "# https://scanpy.readthedocs.io/en/stable/generated/scanpy.tl.rank_genes_groups.html\n",
    "sc.tl.rank_genes_groups(\n",
    "    \"<data>\", groupby=\"<column name>\", groups=[\"<diseased>\"], reference=\"<reference>\", method=\"t-test\"\n",
    ")"
   ]
  },
  {
   "cell_type": "code",
   "execution_count": null,
   "id": "a18946e9-f8e3-4bdd-b626-11b9874b0779",
   "metadata": {},
   "outputs": [],
   "source": [
    "#https://scanpy.readthedocs.io/en/stable/generated/scanpy.get.rank_genes_groups_df.html\n",
    "results = sc.get.rank_genes_groups_df(\"<data>\", group=\"<diseased>\", pval_cutoff=0.05).query(\"abs(logfoldchanges) > 0.585\")"
   ]
  },
  {
   "cell_type": "code",
   "execution_count": null,
   "id": "4cfd4b26-7b83-4019-9f2e-78a7d54f748c",
   "metadata": {},
   "outputs": [],
   "source": [
    "# https://scanpy.readthedocs.io/en/stable/generated/scanpy.pl.clustermap.html\n",
    "sc.pl.clustermap(\n",
    "    \"<data>\",\n",
    "    obs_keys=\"<column name>\",\n",
    "    use_raw=False,\n",
    ")"
   ]
  },
  {
   "cell_type": "code",
   "execution_count": null,
   "id": "5512b3e4-5639-414c-8931-86205b6a5729",
   "metadata": {},
   "outputs": [],
   "source": [
    "# https://scanpy.readthedocs.io/en/stable/generated/scanpy.tl.dendrogram.html\n",
    "sc.pl.dendrogram(\"<data>\", groupby=\"Sample\")"
   ]
  },
  {
   "cell_type": "code",
   "execution_count": null,
   "id": "226d81e1-e886-467e-9a91-a1b316a197d8",
   "metadata": {},
   "outputs": [],
   "source": [
    "# https://scanpy.readthedocs.io/en/stable/generated/scanpy.pl.pca.html\n",
    "sc.pl.pca(\"<data>\", color=\"<column name>\")"
   ]
  },
  {
   "cell_type": "code",
   "execution_count": null,
   "id": "a9fb6cbf-9644-438d-aaad-a84adb104a08",
   "metadata": {},
   "outputs": [],
   "source": [
    "# https://scanpy.readthedocs.io/en/latest/generated/scanpy.pl.clustermap.html#\n",
    "sc.pl.clustermap(\"<data>\", obs_keys=\"<column name>\", use_raw=False)"
   ]
  },
  {
   "cell_type": "code",
   "execution_count": null,
   "id": "73d78dfa-5de1-4fcf-a725-f076765d00bb",
   "metadata": {},
   "outputs": [],
   "source": [
    "# https://www.pycm.io/doc/index.html#Direct-CM\n",
    "traincm = pycm.ConfusionMatrix(actual_vector=\"<training data>\".obs.relapse.values.astype(str), predict_vector=\"<predicted data>\")\n",
    "traincm.plot(number_label=True)"
   ]
  },
  {
   "cell_type": "code",
   "execution_count": null,
   "id": "c82fba79-f656-4542-8b83-5b3f2082230a",
   "metadata": {
    "tags": []
   },
   "outputs": [],
   "source": [
    "fig, axes = plt.subplots(nrows = 1,ncols = 1,figsize = (4,4), dpi=800)\n",
    "tree.plot_tree(rf.estimators_[\"<tree index>\"],\n",
    "               feature_names = \"<feature_names>\", \n",
    "               class_names=\"<class_names>\",\n",
    "               impurity=False,\n",
    "               filled = True);"
   ]
  }
 ],
 "metadata": {
  "kernelspec": {
   "display_name": "Python 3 (ipykernel)",
   "language": "python",
   "name": "python3"
  },
  "language_info": {
   "codemirror_mode": {
    "name": "ipython",
    "version": 3
   },
   "file_extension": ".py",
   "mimetype": "text/x-python",
   "name": "python",
   "nbconvert_exporter": "python",
   "pygments_lexer": "ipython3",
   "version": "3.10.10"
  }
 },
 "nbformat": 4,
 "nbformat_minor": 5
}
