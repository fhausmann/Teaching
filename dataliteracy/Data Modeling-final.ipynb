{
 "cells": [
  {
   "cell_type": "markdown",
   "id": "e16268d0-1971-4f58-b86c-89df142e8137",
   "metadata": {},
   "source": [
    "# Data Modeling"
   ]
  },
  {
   "cell_type": "code",
   "execution_count": null,
   "id": "3842a9f9-71d8-4af0-8a6f-4af6b8069477",
   "metadata": {
    "tags": []
   },
   "outputs": [],
   "source": [
    "import scanpy as sc\n",
    "from sklearn.ensemble import RandomForestClassifier, RandomForestRegressor\n",
    "from scipy.cluster.hierarchy import fcluster\n",
    "import pandas as pd\n",
    "import pycm"
   ]
  },
  {
   "cell_type": "code",
   "execution_count": null,
   "id": "1f22b80f-d05c-4e02-9acb-8006a95f7445",
   "metadata": {
    "tags": []
   },
   "outputs": [],
   "source": [
    "def train_test_split(adata, fraction: float):\n",
    "    test_idx = adata.obs.sample(frac=fraction, random_state=42).index\n",
    "    return adata[~adata.obs_names.isin(test_idx)].copy(), adata[test_idx].copy()"
   ]
  },
  {
   "cell_type": "code",
   "execution_count": null,
   "id": "4a5867e7-9e2f-482e-beac-33ed3d9a8cff",
   "metadata": {
    "tags": []
   },
   "outputs": [],
   "source": [
    "def agglomerative_clustering(\n",
    "    adata, nclusters: int, groupby: str = \"Sample\", n_pcs: int = None\n",
    "):\n",
    "    if groupby == \"Sample\" and \"Sample\" not in adata.obs.columns:\n",
    "        adata.obs[\"Sample\"] = adata.obs_names.astype(\"category\")\n",
    "    sc.tl.dendrogram(adata, groupby=groupby)\n",
    "    labels = data.obs[groupby].cat.categories\n",
    "    clusters = fcluster(\n",
    "        adata.uns[f\"dendrogram_{groupby}\"][\"linkage\"], t=nclusters, criterion=\"maxclust\"\n",
    "    )\n",
    "    clusters = pd.Series(clusters, index=labels).astype(\"category\")\n",
    "    clusters = clusters.reindex(adata.obs[groupby].values).values\n",
    "    adata.obs[\"Cluster\"] = clusters"
   ]
  },
  {
   "cell_type": "markdown",
   "id": "ab8e2c91-fdcd-445c-8880-1df79ce859d8",
   "metadata": {
    "tags": []
   },
   "source": [
    "# Daten einlesen"
   ]
  },
  {
   "cell_type": "code",
   "execution_count": null,
   "id": "5a31df23-20d4-46a5-9fd1-cb2bde3c23ab",
   "metadata": {
    "tags": []
   },
   "outputs": [],
   "source": [
    "data = sc.read(\"processed_data.h5ad\")"
   ]
  },
  {
   "cell_type": "markdown",
   "id": "b77ecd03-3dc0-4505-b664-8db307cc3634",
   "metadata": {},
   "source": [
    "## Differentielle Expressionsanalyse"
   ]
  },
  {
   "cell_type": "code",
   "execution_count": null,
   "id": "65638c78-5dac-4c76-b02b-9be70be70085",
   "metadata": {
    "tags": []
   },
   "outputs": [],
   "source": [
    "sc.tl.rank_genes_groups(\n",
    "    data, groupby=\"ER Status\", groups=[\"ER+\"], reference=\"ER-\", method=\"t-test\"\n",
    ")"
   ]
  },
  {
   "cell_type": "code",
   "execution_count": null,
   "id": "114dc954-81c4-4a91-b456-a32e32c4c367",
   "metadata": {
    "tags": []
   },
   "outputs": [],
   "source": [
    "results = sc.get.rank_genes_groups_df(data, group=\"ER+\").query(\n",
    "    \"pvals_adj < 0.05 & abs(logfoldchanges) > 0.585\"\n",
    ")"
   ]
  },
  {
   "cell_type": "code",
   "execution_count": null,
   "id": "bed4d90b-b518-4780-8caa-de5e979b3227",
   "metadata": {
    "tags": []
   },
   "outputs": [],
   "source": [
    "results"
   ]
  },
  {
   "cell_type": "code",
   "execution_count": null,
   "id": "612c5877-fc82-4449-a986-e789e38f966d",
   "metadata": {
    "tags": []
   },
   "outputs": [],
   "source": [
    "sc.pl.clustermap(\n",
    "    data[:, results.nsmallest(20, \"pvals_adj\").names],\n",
    "    obs_keys=\"ER Status\",\n",
    "    use_raw=False,\n",
    ")"
   ]
  },
  {
   "cell_type": "code",
   "execution_count": null,
   "id": "3238ac08-1cad-4764-a6c7-2d2704e958b4",
   "metadata": {
    "tags": []
   },
   "outputs": [],
   "source": [
    "sc.tl.rank_genes_groups(\n",
    "    data, groupby=\"relapse\", groups=[\"yes\"], reference=\"no\", method=\"t-test\"\n",
    ")"
   ]
  },
  {
   "cell_type": "code",
   "execution_count": null,
   "id": "959c7d5b-d917-4ba3-ae16-3e8ae3e66c84",
   "metadata": {
    "tags": []
   },
   "outputs": [],
   "source": [
    "results = sc.get.rank_genes_groups_df(data, group=\"yes\").query(\n",
    "    \"pvals_adj < 0.05 & abs(logfoldchanges) > 0.585\"\n",
    ")"
   ]
  },
  {
   "cell_type": "code",
   "execution_count": null,
   "id": "9e181bf4-c984-4af2-8eea-1f362ebc0fca",
   "metadata": {
    "tags": []
   },
   "outputs": [],
   "source": [
    "results.nsmallest(20, \"pvals_adj\")"
   ]
  },
  {
   "cell_type": "code",
   "execution_count": null,
   "id": "bd677c19-f2fe-44e9-9f7b-1e8237aea648",
   "metadata": {
    "tags": []
   },
   "outputs": [],
   "source": [
    "sc.pl.clustermap(\n",
    "    data[:, results.nsmallest(20, \"pvals_adj\").names], obs_keys=\"relapse\", use_raw=False\n",
    ")"
   ]
  },
  {
   "cell_type": "markdown",
   "id": "f288f192-4469-44aa-8320-2ac8b55fe405",
   "metadata": {},
   "source": [
    "## Clustering"
   ]
  },
  {
   "cell_type": "code",
   "execution_count": null,
   "id": "5e74dfd6-e214-4590-bf5e-62ee306fff51",
   "metadata": {
    "tags": []
   },
   "outputs": [],
   "source": [
    "agglomerative_clustering(data, nclusters=3, groupby=\"Sample\")"
   ]
  },
  {
   "cell_type": "code",
   "execution_count": null,
   "id": "e786ef1c-5a98-4755-a48a-271dc6720720",
   "metadata": {
    "tags": []
   },
   "outputs": [],
   "source": [
    "sc.pl.dendrogram(data, groupby=\"Sample\")"
   ]
  },
  {
   "cell_type": "code",
   "execution_count": null,
   "id": "7d5da484-2e07-46ec-a456-b0b6dddc356e",
   "metadata": {
    "tags": []
   },
   "outputs": [],
   "source": [
    "sc.pl.pca(data, color=\"Cluster\")"
   ]
  },
  {
   "cell_type": "code",
   "execution_count": null,
   "id": "3c2379c0-f3f9-42b9-bf14-c7cc88e302b5",
   "metadata": {
    "tags": []
   },
   "outputs": [],
   "source": [
    "sc.pl.clustermap(data, obs_keys=\"Cluster\", use_raw=False)"
   ]
  },
  {
   "cell_type": "markdown",
   "id": "fdbc0543-4050-4440-beac-4619052f4479",
   "metadata": {},
   "source": [
    "## Random Forest"
   ]
  },
  {
   "cell_type": "code",
   "execution_count": null,
   "id": "e7dc7268-7880-40ed-af5f-420e1690345b",
   "metadata": {
    "tags": []
   },
   "outputs": [],
   "source": [
    "train, test = train_test_split(data[:, results.nsmallest(20, \"pvals_adj\").names], 0.2)"
   ]
  },
  {
   "cell_type": "code",
   "execution_count": null,
   "id": "b5d6824c-4641-45f4-af41-784e32549932",
   "metadata": {
    "tags": []
   },
   "outputs": [],
   "source": [
    "rf = RandomForestClassifier(max_features=\"log2\")"
   ]
  },
  {
   "cell_type": "code",
   "execution_count": null,
   "id": "24da4eda-4838-46a5-b0db-f5f22a964e19",
   "metadata": {
    "tags": []
   },
   "outputs": [],
   "source": [
    "rf.fit(train.X, train.obs.relapse)"
   ]
  },
  {
   "cell_type": "code",
   "execution_count": null,
   "id": "0e5320ad-a735-4bb5-8dd1-974cfeb80c34",
   "metadata": {
    "tags": []
   },
   "outputs": [],
   "source": [
    "fig, axes = plt.subplots(nrows = 1,ncols = 1,figsize = (4,4), dpi=800)\n",
    "tree.plot_tree(rf.estimators_[0],\n",
    "               feature_names = data.var_names, \n",
    "               class_names=data.obs.relapse.cat.categories,\n",
    "               impurity=False,\n",
    "               filled = True);"
   ]
  },
  {
   "cell_type": "code",
   "execution_count": null,
   "id": "fcf8687e-76f9-47de-b5dc-6205510e93e7",
   "metadata": {},
   "outputs": [],
   "source": []
  },
  {
   "cell_type": "code",
   "execution_count": null,
   "id": "3b8838b4-bd4c-4310-b023-9e734de049e8",
   "metadata": {
    "tags": []
   },
   "outputs": [],
   "source": [
    "predicted_train = rf.predict(train.X)"
   ]
  },
  {
   "cell_type": "code",
   "execution_count": null,
   "id": "13458f3d-ec0d-4b49-969e-9025f3a9900c",
   "metadata": {
    "tags": []
   },
   "outputs": [],
   "source": [
    "traincm = pycm.ConfusionMatrix(actual_vector=train.obs.relapse.values.astype(str), predict_vector=predicted_train)\n",
    "traincm.plot(number_label=True)"
   ]
  },
  {
   "cell_type": "code",
   "execution_count": null,
   "id": "6f3cb624-24a8-4528-a53a-8f98414a7c12",
   "metadata": {
    "tags": []
   },
   "outputs": [],
   "source": [
    "traincm.ACC"
   ]
  },
  {
   "cell_type": "code",
   "execution_count": null,
   "id": "a282dadb-34ea-4ca6-b1c5-b3478863b585",
   "metadata": {},
   "outputs": [],
   "source": [
    "traincm.FPR"
   ]
  },
  {
   "cell_type": "code",
   "execution_count": null,
   "id": "cb6d702d-df45-47a3-9e2d-dc008402cfab",
   "metadata": {},
   "outputs": [],
   "source": [
    "traincm.FNR"
   ]
  },
  {
   "cell_type": "code",
   "execution_count": null,
   "id": "d7e7257e-b80c-42b7-aec5-7ec742c5b06d",
   "metadata": {
    "tags": []
   },
   "outputs": [],
   "source": [
    "predicted_test = rf.predict(test.X)"
   ]
  },
  {
   "cell_type": "code",
   "execution_count": null,
   "id": "d2862613-77d0-496b-aff2-2f80228dc18c",
   "metadata": {
    "tags": []
   },
   "outputs": [],
   "source": [
    "testcm = pycm.ConfusionMatrix(actual_vector=test.obs.relapse.values.astype(str), predict_vector=predicted_test)\n",
    "testcm.plot(number_label=True)"
   ]
  },
  {
   "cell_type": "code",
   "execution_count": null,
   "id": "67faf5f0-c7da-435d-ba10-04a0022d74a4",
   "metadata": {
    "tags": []
   },
   "outputs": [],
   "source": [
    "testcm.ACC"
   ]
  },
  {
   "cell_type": "code",
   "execution_count": null,
   "id": "17c2fe97-67d8-43ca-a972-aad5037f8eec",
   "metadata": {},
   "outputs": [],
   "source": [
    "testcm.FPR"
   ]
  },
  {
   "cell_type": "code",
   "execution_count": null,
   "id": "7d0d05af-6a2a-43a9-a8d8-9b14a1fb4910",
   "metadata": {
    "tags": []
   },
   "outputs": [],
   "source": [
    "testcm.FNR"
   ]
  },
  {
   "cell_type": "code",
   "execution_count": null,
   "id": "ebe3bf55-d8c0-4c5d-9ddd-d85d7b2d8e76",
   "metadata": {},
   "outputs": [],
   "source": []
  }
 ],
 "metadata": {
  "kernelspec": {
   "display_name": "Python 3 (ipykernel)",
   "language": "python",
   "name": "python3"
  },
  "language_info": {
   "codemirror_mode": {
    "name": "ipython",
    "version": 3
   },
   "file_extension": ".py",
   "mimetype": "text/x-python",
   "name": "python",
   "nbconvert_exporter": "python",
   "pygments_lexer": "ipython3",
   "version": "3.10.10"
  }
 },
 "nbformat": 4,
 "nbformat_minor": 5
}
