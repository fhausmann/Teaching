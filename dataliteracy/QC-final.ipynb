{
 "cells": [
  {
   "cell_type": "markdown",
   "id": "793a991c-72d8-43ea-8620-118b75751800",
   "metadata": {},
   "source": [
    "# Daten Exploration & QC"
   ]
  },
  {
   "cell_type": "markdown",
   "id": "d0ca01be-72b4-4fdd-a7e5-ce5b2714633d",
   "metadata": {},
   "source": [
    "## Benötigte Python Module laden"
   ]
  },
  {
   "cell_type": "code",
   "execution_count": null,
   "id": "26b62b85-e82d-481b-a3b8-7896efe549b1",
   "metadata": {},
   "outputs": [],
   "source": [
    "import pandas as pd\n",
    "import scanpy as sc\n",
    "import anndata as ad"
   ]
  },
  {
   "cell_type": "markdown",
   "id": "cd0e5941-9a76-4ace-ac66-a75e8ca9064a",
   "metadata": {},
   "source": [
    "## Daten einlesen und ins richtige Format bringen"
   ]
  },
  {
   "cell_type": "code",
   "execution_count": null,
   "id": "9700c410-9841-4db2-972a-3b91477dc011",
   "metadata": {},
   "outputs": [],
   "source": [
    "data = pd.read_csv(\"GSE2034_data.csv\", index_col=0)\n",
    "metadata = pd.read_csv(\"GSE2034_metadata.csv\", index_col=0).reindex(data.columns)"
   ]
  },
  {
   "cell_type": "code",
   "execution_count": null,
   "id": "fbee6f10-4f77-488d-867d-506bd135b6a1",
   "metadata": {},
   "outputs": [],
   "source": [
    "dds = ad.AnnData(\n",
    "    X=data.T,\n",
    "    obs=metadata,\n",
    ")"
   ]
  },
  {
   "cell_type": "markdown",
   "id": "982da360-da60-4c39-93e5-54039bbf36c3",
   "metadata": {},
   "source": [
    "## Wie sieht dieses Format dann aus?"
   ]
  },
  {
   "cell_type": "code",
   "execution_count": null,
   "id": "1c535585-8525-4f18-97b6-a774b6cddd6e",
   "metadata": {
    "tags": []
   },
   "outputs": [],
   "source": [
    "dds.obs"
   ]
  },
  {
   "cell_type": "code",
   "execution_count": null,
   "id": "01ad5edc-b2fd-4e1a-b652-220db51428a9",
   "metadata": {
    "tags": []
   },
   "outputs": [],
   "source": [
    "dds.var"
   ]
  },
  {
   "cell_type": "code",
   "execution_count": null,
   "id": "0835b58a-978a-4973-9ee0-31456899c250",
   "metadata": {
    "tags": []
   },
   "outputs": [],
   "source": [
    "dds.X"
   ]
  },
  {
   "cell_type": "markdown",
   "id": "221063fd-d466-4ee1-a55b-dfcd0e05cccf",
   "metadata": {},
   "source": [
    "## Berechnen der von QC Metriken und Visualisierung"
   ]
  },
  {
   "cell_type": "code",
   "execution_count": null,
   "id": "adb9175b-2818-40d1-9d10-a449aabc6f29",
   "metadata": {},
   "outputs": [],
   "source": [
    "sc.pp.calculate_qc_metrics(dds, inplace=True)"
   ]
  },
  {
   "cell_type": "code",
   "execution_count": null,
   "id": "21d9f4f2-f0d9-4c33-a2fa-1696f831cd6e",
   "metadata": {},
   "outputs": [],
   "source": [
    "dds.obs.n_genes_by_counts.hist()"
   ]
  },
  {
   "cell_type": "code",
   "execution_count": null,
   "id": "82cbb54c-14e7-4ed7-a80f-e75d59bfe79c",
   "metadata": {},
   "outputs": [],
   "source": [
    "dds.var.total_counts.hist()"
   ]
  },
  {
   "cell_type": "code",
   "execution_count": null,
   "id": "0d1d2933-5677-4318-b4aa-161053ebd9f9",
   "metadata": {},
   "outputs": [],
   "source": [
    "dds.obs.total_counts.plot.box(figsize=(5, 5))"
   ]
  },
  {
   "cell_type": "code",
   "execution_count": null,
   "id": "7bea9866-5e66-4630-8d41-a10b409bf889",
   "metadata": {},
   "outputs": [],
   "source": [
    "dds.obs.total_counts.hist(figsize=(5, 5))"
   ]
  },
  {
   "cell_type": "code",
   "execution_count": null,
   "id": "fd026777-b05c-4f57-92f7-93646cd1b122",
   "metadata": {},
   "outputs": [],
   "source": [
    "dds.var.log1p_total_counts.hist(log=True)"
   ]
  },
  {
   "cell_type": "markdown",
   "id": "81c90d4e-c538-4abe-8772-5ecc5cacb3ed",
   "metadata": {},
   "source": [
    "## Normalisierung der Daten"
   ]
  },
  {
   "cell_type": "code",
   "execution_count": null,
   "id": "b1cd906e-f9ad-41f7-890f-882a2e260e2f",
   "metadata": {},
   "outputs": [],
   "source": [
    "dds.layers[\"counts\"] = dds.X\n",
    "\n",
    "dds.X = dds.X.astype(float)\n",
    "\n",
    "sc.pp.normalize_per_cell(dds)"
   ]
  },
  {
   "cell_type": "code",
   "execution_count": null,
   "id": "18aeb17a-0010-45b5-83b4-aa11c464ce83",
   "metadata": {},
   "outputs": [],
   "source": [
    "sc.pp.log1p(dds)\n",
    "\n",
    "dds.raw = dds.copy()"
   ]
  },
  {
   "cell_type": "markdown",
   "id": "8884bb64-ae36-4005-bdda-b8ab86a808fd",
   "metadata": {},
   "source": [
    "## Visualizerung der Daten & Überprüfung der Metadaten"
   ]
  },
  {
   "cell_type": "code",
   "execution_count": null,
   "id": "20432cca-93ff-4e36-bd80-235a588a08b6",
   "metadata": {},
   "outputs": [],
   "source": [
    "sc.pl.heatmap(dds, groupby=\"ER Status\", var_names=[\"XIST\", \"UTY\"])"
   ]
  },
  {
   "cell_type": "code",
   "execution_count": null,
   "id": "9e3e554a-8134-4e1b-9c5e-aef79610d76d",
   "metadata": {},
   "outputs": [],
   "source": [
    "sc.pp.pca(dds, use_highly_variable=False)"
   ]
  },
  {
   "cell_type": "code",
   "execution_count": null,
   "id": "9b5fdac7-f6ef-493a-aca0-4f4aea59df92",
   "metadata": {},
   "outputs": [],
   "source": [
    "sc.pl.pca(\n",
    "    dds, color=[\"ER Status\", \"time to relapse or last follow-up (months)\", \"relapse\"]\n",
    ")"
   ]
  },
  {
   "cell_type": "markdown",
   "id": "b1186295-c773-416b-8ddd-afb19d608576",
   "metadata": {},
   "source": [
    "## Speichern der Daten für den nächsten Schritt"
   ]
  },
  {
   "cell_type": "code",
   "execution_count": null,
   "id": "7a9c16d1-0ece-465f-983b-63df26ed31e9",
   "metadata": {},
   "outputs": [],
   "source": [
    "dds.write_h5ad(\"processed_data.h5ad\")"
   ]
  },
  {
   "cell_type": "markdown",
   "id": "54c99aac-d981-4598-bd43-88c7e32954c8",
   "metadata": {},
   "source": [
    "# Benötigte Code Schnipsel in zufälliger Reihenfolge"
   ]
  },
  {
   "cell_type": "code",
   "execution_count": null,
   "id": "f9368e83-2cbb-42fe-b377-313fcd0f617b",
   "metadata": {},
   "outputs": [],
   "source": []
  }
 ],
 "metadata": {
  "kernelspec": {
   "display_name": "Python 3 (ipykernel)",
   "language": "python",
   "name": "python3"
  },
  "language_info": {
   "codemirror_mode": {
    "name": "ipython",
    "version": 3
   },
   "file_extension": ".py",
   "mimetype": "text/x-python",
   "name": "python",
   "nbconvert_exporter": "python",
   "pygments_lexer": "ipython3",
   "version": "3.10.10"
  }
 },
 "nbformat": 4,
 "nbformat_minor": 5
}
