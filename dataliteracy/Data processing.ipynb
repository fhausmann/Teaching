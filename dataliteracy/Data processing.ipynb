{
 "cells": [
  {
   "cell_type": "markdown",
   "id": "f8f675d1-4644-4e28-bbd5-c0e9f4443cd3",
   "metadata": {},
   "source": [
    "# Wie bekommt man die Daten?"
   ]
  },
  {
   "cell_type": "markdown",
   "id": "be73b5b6-4256-4fde-af4e-097fc90915d6",
   "metadata": {},
   "source": [
    "## Benötigte Pakete laden"
   ]
  },
  {
   "cell_type": "code",
   "execution_count": null,
   "id": "f86b5390-4235-4426-abe0-31d8e94dbbcf",
   "metadata": {
    "tags": []
   },
   "outputs": [],
   "source": [
    "import pandas as pd"
   ]
  },
  {
   "cell_type": "markdown",
   "id": "b038ea9d-e13c-4cdf-b1a0-ef45b8e68322",
   "metadata": {},
   "source": [
    "## Einlesen der Metadaten"
   ]
  },
  {
   "cell_type": "code",
   "execution_count": null,
   "id": "123782d9-e095-4013-b39a-188709e2f9b3",
   "metadata": {
    "tags": []
   },
   "outputs": [],
   "source": [
    "data = pd.read_csv(\n",
    "    \"GEO Accession viewer.html\",\n",
    "    skiprows=21,\n",
    "    skipfooter=339 - 309,\n",
    "    sep=\"\\t\",\n",
    "    engine=\"python\",\n",
    ")"
   ]
  },
  {
   "cell_type": "code",
   "execution_count": null,
   "id": "6a242379-df18-4a01-9e95-c6e8ce69e0f3",
   "metadata": {
    "tags": []
   },
   "outputs": [],
   "source": [
    "data"
   ]
  },
  {
   "cell_type": "code",
   "execution_count": null,
   "id": "20c8adde-8e97-4b3d-bb67-347ea938db3f",
   "metadata": {
    "tags": []
   },
   "outputs": [],
   "source": [
    "data.columns = data.columns.str.replace(\n",
    "    \"<[^>]+>\", \"\", regex=True\n",
    ")  # Entfernen der Formatierungen"
   ]
  },
  {
   "cell_type": "code",
   "execution_count": null,
   "id": "7926d5f9-322a-42f3-9ccf-6731c3e03eb5",
   "metadata": {
    "tags": []
   },
   "outputs": [],
   "source": [
    "data[\"relapse\"] = data[\"relapse (1=True)\"].replace(\n",
    "    {1: \"yes\", 0: \"no\"}\n",
    ")  # Formatierung der Relapse Information"
   ]
  },
  {
   "cell_type": "code",
   "execution_count": null,
   "id": "e5f1eb28-b337-42e5-a13d-07d9ba5a0679",
   "metadata": {
    "tags": []
   },
   "outputs": [],
   "source": [
    "data[\"Brain relapses\"] = data[\"Brain relapses (1=yes, 0=no)\"].replace(\n",
    "    {1: \"yes\", 0: \"no\"}\n",
    ")  # Formatierung der Brain Relapse Information"
   ]
  },
  {
   "cell_type": "code",
   "execution_count": null,
   "id": "ad9e91ea-3e47-4bc7-88a0-c7d2280667d1",
   "metadata": {
    "tags": []
   },
   "outputs": [],
   "source": [
    "data"
   ]
  },
  {
   "cell_type": "code",
   "execution_count": null,
   "id": "5502c4bf-4785-47cc-a261-e05f351ce056",
   "metadata": {
    "tags": []
   },
   "outputs": [],
   "source": [
    "data = data.drop(\n",
    "    columns=[\n",
    "        \"relapse (1=True)\",\n",
    "        \"Brain relapses (1=yes, 0=no)\",\n",
    "        \"PID\",\n",
    "        \"lymph node status\",\n",
    "    ]\n",
    ")  # Entfernen von nicht benötigten Informationen"
   ]
  },
  {
   "cell_type": "code",
   "execution_count": null,
   "id": "de11fdf0-f66e-425a-9a09-66b23d00520e",
   "metadata": {
    "tags": []
   },
   "outputs": [],
   "source": [
    "data.to_csv(\"GSE2034_metadata.csv\", index=False)  # Speichern der Metadaten"
   ]
  },
  {
   "cell_type": "markdown",
   "id": "6922466c-5dba-4763-abff-ad380a300a52",
   "metadata": {},
   "source": [
    "## Einlesen der Expressionsdaten"
   ]
  },
  {
   "cell_type": "code",
   "execution_count": null,
   "id": "ba64f289-1678-492a-a2af-381242bef966",
   "metadata": {
    "tags": []
   },
   "outputs": [],
   "source": [
    "data = pd.read_csv(\"GSE2034-22071.txt\", sep=\"\\t\", skiprows=287, index_col=None)"
   ]
  },
  {
   "cell_type": "code",
   "execution_count": null,
   "id": "9cecdd08-27aa-4c44-80ef-f64eb352cc55",
   "metadata": {
    "tags": []
   },
   "outputs": [],
   "source": [
    "data  # ID_REF ist falsch eingerückt."
   ]
  },
  {
   "cell_type": "code",
   "execution_count": null,
   "id": "29728fc3-55b0-4232-b833-66ebcfe287bc",
   "metadata": {
    "tags": []
   },
   "outputs": [],
   "source": [
    "data.columns = data.columns[1:].to_list() + [\n",
    "    \"to_be_deleted\"\n",
    "]  # Richtiges Einrücken der Spalten\n",
    "data = data.dropna(\n",
    "    axis=1, how=\"all\"\n",
    ")  # Entfernen von fehlenden Werten (Achtung, vorher schauen woher diese kommen!)"
   ]
  },
  {
   "cell_type": "markdown",
   "id": "cd27c2ba-1b8e-48ef-bdca-8eee860b69e2",
   "metadata": {},
   "source": [
    "### ID's in Gennamen umwandeln"
   ]
  },
  {
   "cell_type": "code",
   "execution_count": null,
   "id": "90515474-712f-433e-ac16-ebeaa416644e",
   "metadata": {
    "tags": []
   },
   "outputs": [],
   "source": [
    "mapping = pd.read_csv(\n",
    "    \"GPL96-57554.txt\",\n",
    "    comment=\"#\",\n",
    "    sep=\"\\t\",\n",
    "    usecols=[\"ID\", \"Gene Symbol\"],\n",
    "    index_col=\"ID\",\n",
    ")"
   ]
  },
  {
   "cell_type": "code",
   "execution_count": null,
   "id": "33bdf4bb-1d43-4ee4-9c3a-2c5ba6f51516",
   "metadata": {
    "tags": []
   },
   "outputs": [],
   "source": [
    "mapping"
   ]
  },
  {
   "cell_type": "code",
   "execution_count": null,
   "id": "5df3b754-3f3b-46fe-97d2-0fc3111b3bcc",
   "metadata": {
    "tags": []
   },
   "outputs": [],
   "source": [
    "mapping = mapping.dropna()  # Entfernen von ID's ohne Gennamen"
   ]
  },
  {
   "cell_type": "code",
   "execution_count": null,
   "id": "f59c9ebf-60e8-4f2e-bc8e-932635ff905a",
   "metadata": {
    "tags": []
   },
   "outputs": [],
   "source": [
    "mapping = (\n",
    "    mapping.squeeze().str.split(\"///\", expand=True)[0].str.strip()\n",
    ")  # Auswahl von einem Genesymbol pro ID\n",
    "mapping"
   ]
  },
  {
   "cell_type": "code",
   "execution_count": null,
   "id": "77897391-d550-41f2-a126-a59048dfc832",
   "metadata": {
    "tags": []
   },
   "outputs": [],
   "source": [
    "data.index = mapping.reindex(\n",
    "    data.index\n",
    ")  # Mapping von ID's in Daten auf Gennamen durch `mapping`"
   ]
  },
  {
   "cell_type": "code",
   "execution_count": null,
   "id": "ebdd5d2b-159c-41eb-980a-3f55faddb46b",
   "metadata": {
    "tags": []
   },
   "outputs": [],
   "source": [
    "data"
   ]
  },
  {
   "cell_type": "code",
   "execution_count": null,
   "id": "b10e6870-f64f-4121-98d8-5b8045af372b",
   "metadata": {
    "tags": []
   },
   "outputs": [],
   "source": [
    "data = data[~data.index.isna()]  # Entfernen von ID's die nicht gemapped werden konnten"
   ]
  },
  {
   "cell_type": "code",
   "execution_count": null,
   "id": "1516ae5f-e062-429f-90d1-d4cdae335d8a",
   "metadata": {
    "tags": []
   },
   "outputs": [],
   "source": [
    "data = (\n",
    "    data.groupby(level=0).median()\n",
    ")  # Manche Gene hatten mehrere ID's. Wir benutzen hier die Median-Genexpression"
   ]
  },
  {
   "cell_type": "code",
   "execution_count": null,
   "id": "5c5f8934-85bf-4d12-a431-560e58121f6e",
   "metadata": {
    "tags": []
   },
   "outputs": [],
   "source": [
    "data"
   ]
  },
  {
   "cell_type": "code",
   "execution_count": null,
   "id": "b3cd95bf-5e27-4f57-ae0f-34722d92b7e5",
   "metadata": {
    "tags": []
   },
   "outputs": [],
   "source": [
    "data.to_csv(\"GSE2034_data.csv\")"
   ]
  },
  {
   "cell_type": "code",
   "execution_count": null,
   "id": "d30b483f-df34-4e7b-94d2-cf3f84255df0",
   "metadata": {},
   "outputs": [],
   "source": []
  },
  {
   "cell_type": "code",
   "execution_count": null,
   "id": "6a92be53-4d6b-43ef-93c7-3a70b69a47aa",
   "metadata": {},
   "outputs": [],
   "source": []
  }
 ],
 "metadata": {
  "kernelspec": {
   "display_name": "Python 3 (ipykernel)",
   "language": "python",
   "name": "python3"
  },
  "language_info": {
   "codemirror_mode": {
    "name": "ipython",
    "version": 3
   },
   "file_extension": ".py",
   "mimetype": "text/x-python",
   "name": "python",
   "nbconvert_exporter": "python",
   "pygments_lexer": "ipython3",
   "version": "3.10.10"
  }
 },
 "nbformat": 4,
 "nbformat_minor": 5
}
